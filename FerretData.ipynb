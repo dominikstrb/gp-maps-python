{
 "cells": [
  {
   "cell_type": "markdown",
   "metadata": {},
   "source": [
    "# Ferret data\n",
    "First, we load the imaging data used in Macke et al. (2011). Its size is (npixels_x, npixels_y, conditions, trials)."
   ]
  },
  {
   "cell_type": "code",
   "execution_count": 2,
   "metadata": {},
   "outputs": [
    {
     "data": {
      "text/plain": [
       "(126, 252, 8, 100)"
      ]
     },
     "execution_count": 2,
     "metadata": {},
     "output_type": "execute_result"
    }
   ],
   "source": [
    "%matplotlib inline\n",
    "import scipy.io\n",
    "import numpy as np\n",
    "import matplotlib.pyplot as plt\n",
    "\n",
    "data = scipy.io.loadmat('data/ferretdata.mat')\n",
    "data = data['dat'] # data is stored in a dict\n",
    "data.shape"
   ]
  },
  {
   "cell_type": "markdown",
   "metadata": {},
   "source": [
    "Reshape the data to (conditions, trials, npixels_x, npixels_y) and take a 40x40 pixel patch."
   ]
  },
  {
   "cell_type": "code",
   "execution_count": 3,
   "metadata": {},
   "outputs": [
    {
     "name": "stdout",
     "output_type": "stream",
     "text": [
      "(8, 100, 100, 200)\n"
     ]
    },
    {
     "data": {
      "text/plain": [
       "(8, 100, 20, 30)"
      ]
     },
     "execution_count": 3,
     "metadata": {},
     "output_type": "execute_result"
    }
   ],
   "source": [
    "R = np.transpose(data[26:,:200,:,:], (2,3,0,1))\n",
    "print(R.shape)\n",
    "\n",
    "# take only a small part of the image (for performance reasons)\n",
    "R = R[:,:,38:58,106:136]\n",
    "\n",
    "# downsample image\n",
    "#R = R[:,:,::3,::3]\n",
    "\n",
    "size = R.shape[2:]\n",
    "n = size[0] * size[1]\n",
    "R.shape"
   ]
  },
  {
   "cell_type": "markdown",
   "metadata": {},
   "source": [
    "## Plot responses\n",
    "Visualize the responses for the small patch"
   ]
  },
  {
   "cell_type": "code",
   "execution_count": 4,
   "metadata": {},
   "outputs": [
    {
     "data": {
      "image/png": "[encoded data removed]",
      "text/plain": [
       "<Figure size 432x288 with 1 Axes>"
      ]
     },
     "metadata": {},
     "output_type": "display_data"
    }
   ],
   "source": [
    "plt.imshow(R[0,np.random.randint(100),:,:], cmap='jet')\n",
    "plt.show()"
   ]
  },
  {
   "cell_type": "markdown",
   "metadata": {},
   "source": [
    "## Maximum likelihood solution\n",
    "Compute the solution using vector averaging (for details see OPM.ipynb)"
   ]
  },
  {
   "cell_type": "code",
   "execution_count": 5,
   "metadata": {},
   "outputs": [],
   "source": [
    "from opm import calculate_map, plot_opm, plot_amplitude_map\n",
    "from opm.response import create_stimuli"
   ]
  },
  {
   "cell_type": "code",
   "execution_count": 6,
   "metadata": {},
   "outputs": [
    {
     "data": {
      "text/plain": [
       "(8, 100, 3)"
      ]
     },
     "execution_count": 6,
     "metadata": {},
     "output_type": "execute_result"
    }
   ],
   "source": [
    "angles = [i * np.pi / 4 for i in range(4)]*2\n",
    "\n",
    "V = create_stimuli([1.], angles, 100)\n",
    "V.shape"
   ]
  },
  {
   "cell_type": "code",
   "execution_count": 7,
   "metadata": {},
   "outputs": [],
   "source": [
    "m = calculate_map(R, V)\n",
    "m_hat = m[0] + 1j * m[1]"
   ]
  },
  {
   "cell_type": "code",
   "execution_count": 8,
   "metadata": {},
   "outputs": [
    {
     "data": {
      "image/png": "[encoded data removed]",
      "text/plain": [
       "<Figure size 432x288 with 2 Axes>"
      ]
     },
     "metadata": {},
     "output_type": "display_data"
    }
   ],
   "source": [
    "plot_opm(m_hat, pinwheels=False, shade=False, rmax=80)\n",
    "plt.show()"
   ]
  },
  {
   "cell_type": "markdown",
   "metadata": {},
   "source": [
    "## Gaussian Process method\n",
    "Compute a smooth OPM using the GP method (see BayesianOPM.ipynb)"
   ]
  },
  {
   "cell_type": "code",
   "execution_count": 9,
   "metadata": {},
   "outputs": [],
   "source": [
    "from opm.gp import GaussianProcessOPM"
   ]
  },
  {
   "cell_type": "code",
   "execution_count": 10,
   "metadata": {},
   "outputs": [],
   "source": [
    "gp = GaussianProcessOPM(size=R.shape[2:], prior_method='icd', prior_rank=500)"
   ]
  },
  {
   "cell_type": "code",
   "execution_count": 11,
   "metadata": {},
   "outputs": [
    {
     "name": "stdout",
     "output_type": "stream",
     "text": [
      "*** Estimating prior hyperparameters ***\n",
      "{'sigma': 4.441399047063159, 'alpha': 2.8433287234972293}\n",
      "*** Fitting prior ***\n",
      "*** Fitting posterior ***\n",
      "Fitting noise model: iteration 1\n",
      "Fitting noise model: iteration 2\n",
      "Fitting noise model: iteration 3\n"
     ]
    }
   ],
   "source": [
    "mu_post = gp.fit(stimuli=V, responses=R, noise='factoran', verbose=True, noise_kwargs={'iterations':3, 'q':2})"
   ]
  },
  {
   "cell_type": "code",
   "execution_count": 14,
   "metadata": {},
   "outputs": [],
   "source": [
    "d = 3\n",
    "N = 800\n",
    "mhat = calculate_map(R, V).reshape((d,n))\n",
    "\n",
    "G = gp.prior.G\n",
    "K = G @ G.T + gp.prior.D\n",
    "beta = 2 / N\n",
    "\n",
    "noise_cov = gp.noise.D + gp.noise.G @ gp.noise.G.T\n",
    "S = np.linalg.inv(self.noise.covariance)\n",
    "\n",
    "K_post_c = K - 1 / beta * K @ (S - S @ G @ np.linalg.inv(beta * np.eye(gp.rank) + G.T @ S @ G) @ G.T @ S) @ K\n",
    "\n",
    "mu_post = np.kron(np.eye(d), K_post_c @ S) @ mhat.reshape((d*n, 1))"
   ]
  },
  {
   "cell_type": "code",
   "execution_count": 17,
   "metadata": {},
   "outputs": [],
   "source": [
    "mu_post = mu_post.reshape((d,*size))"
   ]
  },
  {
   "cell_type": "code",
   "execution_count": 20,
   "metadata": {},
   "outputs": [],
   "source": [
    "test1 = (K_post_c @ S)"
   ]
  },
  {
   "cell_type": "code",
   "execution_count": 25,
   "metadata": {},
   "outputs": [
    {
     "data": {
      "text/plain": [
       "(600, 600)"
      ]
     },
     "execution_count": 25,
     "metadata": {},
     "output_type": "execute_result"
    }
   ],
   "source": [
    "test1.shape"
   ]
  },
  {
   "cell_type": "code",
   "execution_count": 24,
   "metadata": {},
   "outputs": [
    {
     "data": {
      "text/plain": [
       "(600, 600)"
      ]
     },
     "execution_count": 24,
     "metadata": {},
     "output_type": "execute_result"
    }
   ],
   "source": [
    "from opm.gp.lowrank import premult_by_postcov\n",
    "test2 = premult_by_postcov(np.eye(n), N, gp.prior, gp.noise)\n",
    "test2.shape"
   ]
  },
  {
   "cell_type": "code",
   "execution_count": 194,
   "metadata": {},
   "outputs": [
    {
     "data": {
      "text/plain": [
       "array([[[-6.98662623e-04, -2.05447973e-04,  3.36304005e-04, ...,\n",
       "         -8.36543066e-03, -5.94634630e-03, -3.77913662e-03],\n",
       "        [-2.05725125e-04, -1.65655698e-04,  9.53183515e-05, ...,\n",
       "         -7.73582219e-03, -5.75113244e-03, -3.22275547e-03],\n",
       "        [ 3.49589603e-04,  1.47568539e-04,  2.41912733e-04, ...,\n",
       "         -7.16312371e-03, -5.11339028e-03, -2.66459550e-03],\n",
       "        ...,\n",
       "        [ 4.75533739e-04, -5.03073931e-04, -1.31625721e-03, ...,\n",
       "         -1.06889785e-02, -1.15476899e-02, -1.18843772e-02],\n",
       "        [ 1.44029315e-03,  4.76981751e-04, -1.44827452e-04, ...,\n",
       "         -1.05953239e-02, -1.09452550e-02, -1.13257039e-02],\n",
       "        [ 2.41712299e-03,  1.74799185e-03,  9.41404941e-04, ...,\n",
       "         -9.42306669e-03, -1.00438328e-02, -1.02928183e-02]],\n",
       "\n",
       "       [[ 7.94328293e-04,  8.40352833e-04,  8.38685328e-04, ...,\n",
       "          1.22604827e-03,  1.07952617e-03,  9.10174891e-04],\n",
       "        [ 8.23599348e-04,  8.50466902e-04,  8.74333746e-04, ...,\n",
       "          1.22240465e-03,  1.12267984e-03,  9.45611857e-04],\n",
       "        [ 8.09252577e-04,  8.59392463e-04,  8.76642893e-04, ...,\n",
       "          1.25532842e-03,  1.13281791e-03,  9.82045948e-04],\n",
       "        ...,\n",
       "        [ 4.55665177e-04,  5.86188983e-04,  6.97393414e-04, ...,\n",
       "          1.23987742e-03,  1.28766715e-03,  1.26941362e-03],\n",
       "        [ 3.59498356e-04,  4.74466395e-04,  6.19259678e-04, ...,\n",
       "          1.21670802e-03,  1.22777894e-03,  1.23208719e-03],\n",
       "        [ 2.67162664e-04,  3.61047491e-04,  5.06761509e-04, ...,\n",
       "          1.10438307e-03,  1.12916466e-03,  1.12966042e-03]],\n",
       "\n",
       "       [[-4.69708864e-02, -4.89526037e-02, -4.84073177e-02, ...,\n",
       "         -5.16160126e-02, -4.91402176e-02, -4.46338964e-02],\n",
       "        [-4.90267678e-02, -4.91953029e-02, -4.98371503e-02, ...,\n",
       "         -5.23776856e-02, -5.09226305e-02, -4.64707359e-02],\n",
       "        [-4.82834575e-02, -4.99676128e-02, -4.98990975e-02, ...,\n",
       "         -5.43530965e-02, -5.21107579e-02, -4.86537891e-02],\n",
       "        ...,\n",
       "        [-3.32084202e-02, -3.71417686e-02, -3.99551253e-02, ...,\n",
       "         -4.76911427e-02, -4.91213712e-02, -4.86945360e-02],\n",
       "        [-2.97247994e-02, -3.27525293e-02, -3.78024230e-02, ...,\n",
       "         -4.75351622e-02, -4.86523290e-02, -4.85906602e-02],\n",
       "        [-2.62428720e-02, -2.94446591e-02, -3.37820271e-02, ...,\n",
       "         -4.52023688e-02, -4.56548138e-02, -4.57025777e-02]]])"
      ]
     },
     "execution_count": 194,
     "metadata": {},
     "output_type": "execute_result"
    }
   ],
   "source": [
    "mu_post2"
   ]
  },
  {
   "cell_type": "code",
   "execution_count": 18,
   "metadata": {},
   "outputs": [],
   "source": [
    "#mu = m.reshape(3, size)\n",
    "result = mu_post[0] + 1j * mu_post[1]"
   ]
  },
  {
   "cell_type": "code",
   "execution_count": 19,
   "metadata": {},
   "outputs": [
    {
     "data": {
      "image/png": "[encoded data removed]",
      "text/plain": [
       "<Figure size 432x288 with 2 Axes>"
      ]
     },
     "metadata": {},
     "output_type": "display_data"
    }
   ],
   "source": [
    "f, ax = plot_opm(result)"
   ]
  },
  {
   "cell_type": "markdown",
   "metadata": {},
   "source": [
    "### Noise covariance\n",
    "We examine the noise variances (i.e. the diagonal of the noise covariance matrix)."
   ]
  },
  {
   "cell_type": "code",
   "execution_count": 53,
   "metadata": {},
   "outputs": [
    {
     "data": {
      "image/png": "[encoded data removed]",
      "text/plain": [
       "<Figure size 432x288 with 2 Axes>"
      ]
     },
     "metadata": {},
     "output_type": "display_data"
    },
    {
     "data": {
      "image/png": "[encoded data removed]",
      "text/plain": [
       "<Figure size 432x288 with 1 Axes>"
      ]
     },
     "metadata": {},
     "output_type": "display_data"
    }
   ],
   "source": [
    "noise_cov = gp.noise.D + gp.noise.G @ gp.noise.G.T\n",
    "noise_var = np.diag(noise_cov)\n",
    "\n",
    "plt.imshow(np.log10(noise_var).reshape(*R.shape[2:]), cmap='jet')\n",
    "plt.colorbar()\n",
    "plt.show()\n",
    "\n",
    "plt.hist(np.log10(noise_var), bins=50, edgecolor='black')\n",
    "plt.show()"
   ]
  },
  {
   "cell_type": "code",
   "execution_count": 14,
   "metadata": {},
   "outputs": [
    {
     "data": {
      "text/plain": [
       "array([[ 1.        ,  0.11620494, -0.04739863, ...,  0.08275058,\n",
       "         0.06044977,  0.07859663],\n",
       "       [ 0.11620494,  1.        , -0.03689163, ...,  0.08178572,\n",
       "         0.06209477,  0.07884165],\n",
       "       [-0.04739863, -0.03689163,  1.        , ...,  0.00133604,\n",
       "         0.01161343,  0.00652673],\n",
       "       ...,\n",
       "       [ 0.08275058,  0.08178572,  0.00133604, ...,  1.        ,\n",
       "         0.07908519,  0.09265703],\n",
       "       [ 0.06044977,  0.06209477,  0.01161343, ...,  0.07908519,\n",
       "         1.        ,  0.08175567],\n",
       "       [ 0.07859663,  0.07884165,  0.00652673, ...,  0.09265703,\n",
       "         0.08175567,  1.        ]])"
      ]
     },
     "execution_count": 14,
     "metadata": {},
     "output_type": "execute_result"
    }
   ],
   "source": [
    "def cov2corr(cov):\n",
    "    std = np.sqrt(np.diag(cov))\n",
    "    std_mat = np.tile(std, (cov.shape[0],1))\n",
    "    return cov / std_mat / std_mat.T\n",
    "\n",
    "cov2corr(gp.noise_cov)"
   ]
  },
  {
   "cell_type": "code",
   "execution_count": 15,
   "metadata": {},
   "outputs": [],
   "source": [
    "def avg_neighbor_corr(gp, radius=2):\n",
    "    \n",
    "    # size of the map (x, y)\n",
    "    size = gp.size\n",
    "    \n",
    "    # convert noise covariance to correlation matrix\n",
    "    noise_corr = cov2corr(gp.noise_cov)\n",
    "    \n",
    "    # initialize empty image\n",
    "    neighbor_corr = np.zeros(size)\n",
    "    \n",
    "    # for each index\n",
    "    # i is the 1d index\n",
    "    # ix is the 2d (x, y) index\n",
    "    for i, ix in enumerate(gp.idx):\n",
    "        # compute euclidean distance from this index to all others\n",
    "        dist = np.sqrt(np.sum(np.square(ix - gp.idx), axis=1))\n",
    "        \n",
    "        # keep all indices smaller than some distance\n",
    "        neighbors = np.where(dist <= radius)[0]\n",
    "        # remove the index itself\n",
    "        neighbors = neighbors[neighbors != i]\n",
    "    \n",
    "        # compute average correlation between i and the neighbors\n",
    "        neighbor_corr[ix[0], ix[1]] = np.mean(noise_corr[i, neighbors])\n",
    "            \n",
    "    return neighbor_corr"
   ]
  },
  {
   "cell_type": "code",
   "execution_count": 16,
   "metadata": {},
   "outputs": [
    {
     "data": {
      "image/png": "[encoded data removed]",
      "text/plain": [
       "<Figure size 432x288 with 2 Axes>"
      ]
     },
     "metadata": {},
     "output_type": "display_data"
    },
    {
     "data": {
      "image/png": "[encoded data removed]",
      "text/plain": [
       "<Figure size 432x288 with 1 Axes>"
      ]
     },
     "metadata": {},
     "output_type": "display_data"
    }
   ],
   "source": [
    "nbcorr = avg_neighbor_corr(gp, radius=2)\n",
    "\n",
    "plt.imshow(nbcorr, cmap='jet')\n",
    "plt.colorbar()\n",
    "plt.show()\n",
    "\n",
    "plt.hist(nbcorr, bins=50, edgecolor='black')\n",
    "plt.show()"
   ]
  },
  {
   "cell_type": "code",
   "execution_count": null,
   "metadata": {},
   "outputs": [],
   "source": []
  }
 ],
 "metadata": {
  "kernelspec": {
   "display_name": "Python 3",
   "language": "python",
   "name": "python3"
  },
  "language_info": {
   "codemirror_mode": {
    "name": "ipython",
    "version": 3
   },
   "file_extension": ".py",
   "mimetype": "text/x-python",
   "name": "python",
   "nbconvert_exporter": "python",
   "pygments_lexer": "ipython3",
   "version": "3.7.0"
  }
 },
 "nbformat": 4,
 "nbformat_minor": 2
}
