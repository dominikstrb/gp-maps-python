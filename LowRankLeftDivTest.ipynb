{
 "cells": [
  {
   "cell_type": "code",
   "execution_count": 1,
   "metadata": {},
   "outputs": [],
   "source": [
    "import numpy as np\n",
    "from opm.gp.lowrank import lowrank_leftdiv"
   ]
  },
  {
   "cell_type": "code",
   "execution_count": 39,
   "metadata": {},
   "outputs": [],
   "source": [
    "def my_lowrank_leftdiv(x, D, G, invR=None, H=None, blocksize=1000):\n",
    "\n",
    "    _, N = x.shape\n",
    "    n, q = G.shape\n",
    "    \n",
    "    if H is None:\n",
    "        H = G\n",
    "\n",
    "    if invR is None:\n",
    "        invR = np.eye(q)\n",
    "\n",
    "    \n",
    "    if x.shape[1] <= blocksize:\n",
    "        y = np.linalg.solve(D, x)\n",
    "        y = G.T @ y\n",
    "    \n",
    "    \n",
    "    else:\n",
    "        y = np.zeros(x.shape)\n",
    "        y2 = np.zeros((q,N))\n",
    "        numblocks = int(np.ceil(x.shape[1] / blocksize))\n",
    "        for k in range(1, numblocks + 1):\n",
    "            index = np.arange((k-1) * blocksize + 1, np.minimum(k * blocksize, x.shape[1])+1)\n",
    "            index -= 1\n",
    "            y[:,index] = np.linalg.solve(D, x[:,index])\n",
    "            y2[:,index] = H.T @ y[:,index]\n",
    "        y = y2\n",
    "    \n",
    "    \n",
    "\n",
    "    if G.shape[1] <= blocksize:\n",
    "        innerblock= np.linalg.solve(D, G)\n",
    "        innerblock = invR + H.T @ innerblock\n",
    "\n",
    "    \n",
    "    else:\n",
    "        numblocks = int(np.ceil(G.shape[1] / blocksize))\n",
    "        innerblock = np.zeros(G.shape)\n",
    "        for k in range(1, numblocks + 1):\n",
    "            index = np.arange((k-1) * blocksize + 1, np.minimum(k * blocksize, G.shape[1])+1)\n",
    "            index -= 1\n",
    "            innerblock[:,index] = np.linalg.solve(D, G[:,index])\n",
    "\n",
    "        innerblock = invR + H.T @ innerblock\n",
    "\n",
    "                                           \n",
    "    if x.shape[1] <= blocksize:\n",
    "        y = np.linalg.solve(innerblock, y)\n",
    "        y = G @ y\n",
    "        y = np.linalg.solve(D, x-y)\n",
    "    \n",
    "    else:\n",
    "        numblocks = int(np.ceil(x.shape[1] / blocksize))\n",
    "        y2 = np.zeros(x.shape)\n",
    "        for k in range(1, numblocks + 1):\n",
    "            index = np.arange((k-1) * blocksize + 1, np.minimum(k * blocksize, x.shape[1])+1)\n",
    "            index -= 1\n",
    "            y2[:,index] = G @ np.linalg.solve(innerblock, y[:,index])\n",
    "            y2[:,index] = np.linalg.solve(D, (x[:,index]-y2[:,index]))\n",
    "        y=y2\n",
    "\n",
    "    return y"
   ]
  },
  {
   "cell_type": "code",
   "execution_count": 42,
   "metadata": {},
   "outputs": [
    {
     "name": "stdout",
     "output_type": "stream",
     "text": [
      "2\n"
     ]
    },
    {
     "data": {
      "text/plain": [
       "True"
      ]
     },
     "execution_count": 42,
     "metadata": {},
     "output_type": "execute_result"
    }
   ],
   "source": [
    "from numpy.random import randn\n",
    "n, q = 100, 2000\n",
    "N = 10\n",
    "x = randn(n,N)\n",
    "D = randn(n,n)\n",
    "G = randn(n,q)\n",
    "\n",
    "np.allclose(lowrank_leftdiv(x,D,G), my_lowrank_leftdiv(x,D,G))"
   ]
  },
  {
   "cell_type": "code",
   "execution_count": null,
   "metadata": {},
   "outputs": [],
   "source": []
  }
 ],
 "metadata": {
  "kernelspec": {
   "display_name": "Python 3",
   "language": "python",
   "name": "python3"
  },
  "language_info": {
   "codemirror_mode": {
    "name": "ipython",
    "version": 3
   },
   "file_extension": ".py",
   "mimetype": "text/x-python",
   "name": "python",
   "nbconvert_exporter": "python",
   "pygments_lexer": "ipython3",
   "version": "3.7.0"
  }
 },
 "nbformat": 4,
 "nbformat_minor": 2
}
